{
  "nbformat": 4,
  "nbformat_minor": 0,
  "metadata": {
    "colab": {
      "provenance": []
    },
    "kernelspec": {
      "name": "ir",
      "display_name": "R"
    },
    "language_info": {
      "name": "R"
    }
  },
  "cells": [
    {
      "cell_type": "code",
      "execution_count": 1,
      "metadata": {
        "id": "WfdNLSQeBmlT"
      },
      "outputs": [],
      "source": [
        "library(class)"
      ]
    },
    {
      "cell_type": "code",
      "source": [
        "f <- read.csv(\"../datasets/wbc_csv.csv\")\n",
        "head(f)"
      ],
      "metadata": {
        "colab": {
          "base_uri": "https://localhost:8080/",
          "height": 306
        },
        "id": "J4y8tHLrC_i_",
        "outputId": "1f63082f-a65d-4d25-e4b6-2796c22b6957"
      },
      "execution_count": 3,
      "outputs": [
        {
          "output_type": "display_data",
          "data": {
            "text/html": [
              "<table class=\"dataframe\">\n",
              "<caption>A data.frame: 6 × 32</caption>\n",
              "<thead>\n",
              "\t<tr><th></th><th scope=col>id</th><th scope=col>diagnosis</th><th scope=col>radius_mean</th><th scope=col>texture_mean</th><th scope=col>perimeter_mean</th><th scope=col>area_mean</th><th scope=col>smoothness_mean</th><th scope=col>compactness_mean</th><th scope=col>concavity_mean</th><th scope=col>concave.points_mean</th><th scope=col>⋯</th><th scope=col>radius_worst</th><th scope=col>texture_worst</th><th scope=col>perimeter_worst</th><th scope=col>area_worst</th><th scope=col>smoothness_worst</th><th scope=col>compactness_worst</th><th scope=col>concavity_worst</th><th scope=col>concave.points_worst</th><th scope=col>symmetry_worst</th><th scope=col>fractal_dimension_worst</th></tr>\n",
              "\t<tr><th></th><th scope=col>&lt;int&gt;</th><th scope=col>&lt;chr&gt;</th><th scope=col>&lt;dbl&gt;</th><th scope=col>&lt;dbl&gt;</th><th scope=col>&lt;dbl&gt;</th><th scope=col>&lt;dbl&gt;</th><th scope=col>&lt;dbl&gt;</th><th scope=col>&lt;dbl&gt;</th><th scope=col>&lt;dbl&gt;</th><th scope=col>&lt;dbl&gt;</th><th scope=col>⋯</th><th scope=col>&lt;dbl&gt;</th><th scope=col>&lt;dbl&gt;</th><th scope=col>&lt;dbl&gt;</th><th scope=col>&lt;dbl&gt;</th><th scope=col>&lt;dbl&gt;</th><th scope=col>&lt;dbl&gt;</th><th scope=col>&lt;dbl&gt;</th><th scope=col>&lt;dbl&gt;</th><th scope=col>&lt;dbl&gt;</th><th scope=col>&lt;dbl&gt;</th></tr>\n",
              "</thead>\n",
              "<tbody>\n",
              "\t<tr><th scope=row>1</th><td>  842302</td><td>M</td><td>17.99</td><td>10.38</td><td>122.80</td><td>1001.0</td><td>0.11840</td><td>0.27760</td><td>0.3001</td><td>0.14710</td><td>⋯</td><td>25.38</td><td>17.33</td><td>184.60</td><td>2019.0</td><td>0.1622</td><td>0.6656</td><td>0.7119</td><td>0.2654</td><td>0.4601</td><td>0.11890</td></tr>\n",
              "\t<tr><th scope=row>2</th><td>  842517</td><td>M</td><td>20.57</td><td>17.77</td><td>132.90</td><td>1326.0</td><td>0.08474</td><td>0.07864</td><td>0.0869</td><td>0.07017</td><td>⋯</td><td>24.99</td><td>23.41</td><td>158.80</td><td>1956.0</td><td>0.1238</td><td>0.1866</td><td>0.2416</td><td>0.1860</td><td>0.2750</td><td>0.08902</td></tr>\n",
              "\t<tr><th scope=row>3</th><td>84300903</td><td>M</td><td>19.69</td><td>21.25</td><td>130.00</td><td>1203.0</td><td>0.10960</td><td>0.15990</td><td>0.1974</td><td>0.12790</td><td>⋯</td><td>23.57</td><td>25.53</td><td>152.50</td><td>1709.0</td><td>0.1444</td><td>0.4245</td><td>0.4504</td><td>0.2430</td><td>0.3613</td><td>0.08758</td></tr>\n",
              "\t<tr><th scope=row>4</th><td>84348301</td><td>M</td><td>11.42</td><td>20.38</td><td> 77.58</td><td> 386.1</td><td>0.14250</td><td>0.28390</td><td>0.2414</td><td>0.10520</td><td>⋯</td><td>14.91</td><td>26.50</td><td> 98.87</td><td> 567.7</td><td>0.2098</td><td>0.8663</td><td>0.6869</td><td>0.2575</td><td>0.6638</td><td>0.17300</td></tr>\n",
              "\t<tr><th scope=row>5</th><td>84358402</td><td>M</td><td>20.29</td><td>14.34</td><td>135.10</td><td>1297.0</td><td>0.10030</td><td>0.13280</td><td>0.1980</td><td>0.10430</td><td>⋯</td><td>22.54</td><td>16.67</td><td>152.20</td><td>1575.0</td><td>0.1374</td><td>0.2050</td><td>0.4000</td><td>0.1625</td><td>0.2364</td><td>0.07678</td></tr>\n",
              "\t<tr><th scope=row>6</th><td>  843786</td><td>M</td><td>12.45</td><td>15.70</td><td> 82.57</td><td> 477.1</td><td>0.12780</td><td>0.17000</td><td>0.1578</td><td>0.08089</td><td>⋯</td><td>15.47</td><td>23.75</td><td>103.40</td><td> 741.6</td><td>0.1791</td><td>0.5249</td><td>0.5355</td><td>0.1741</td><td>0.3985</td><td>0.12440</td></tr>\n",
              "</tbody>\n",
              "</table>\n"
            ],
            "text/markdown": "\nA data.frame: 6 × 32\n\n| <!--/--> | id &lt;int&gt; | diagnosis &lt;chr&gt; | radius_mean &lt;dbl&gt; | texture_mean &lt;dbl&gt; | perimeter_mean &lt;dbl&gt; | area_mean &lt;dbl&gt; | smoothness_mean &lt;dbl&gt; | compactness_mean &lt;dbl&gt; | concavity_mean &lt;dbl&gt; | concave.points_mean &lt;dbl&gt; | ⋯ ⋯ | radius_worst &lt;dbl&gt; | texture_worst &lt;dbl&gt; | perimeter_worst &lt;dbl&gt; | area_worst &lt;dbl&gt; | smoothness_worst &lt;dbl&gt; | compactness_worst &lt;dbl&gt; | concavity_worst &lt;dbl&gt; | concave.points_worst &lt;dbl&gt; | symmetry_worst &lt;dbl&gt; | fractal_dimension_worst &lt;dbl&gt; |\n|---|---|---|---|---|---|---|---|---|---|---|---|---|---|---|---|---|---|---|---|---|---|\n| 1 |   842302 | M | 17.99 | 10.38 | 122.80 | 1001.0 | 0.11840 | 0.27760 | 0.3001 | 0.14710 | ⋯ | 25.38 | 17.33 | 184.60 | 2019.0 | 0.1622 | 0.6656 | 0.7119 | 0.2654 | 0.4601 | 0.11890 |\n| 2 |   842517 | M | 20.57 | 17.77 | 132.90 | 1326.0 | 0.08474 | 0.07864 | 0.0869 | 0.07017 | ⋯ | 24.99 | 23.41 | 158.80 | 1956.0 | 0.1238 | 0.1866 | 0.2416 | 0.1860 | 0.2750 | 0.08902 |\n| 3 | 84300903 | M | 19.69 | 21.25 | 130.00 | 1203.0 | 0.10960 | 0.15990 | 0.1974 | 0.12790 | ⋯ | 23.57 | 25.53 | 152.50 | 1709.0 | 0.1444 | 0.4245 | 0.4504 | 0.2430 | 0.3613 | 0.08758 |\n| 4 | 84348301 | M | 11.42 | 20.38 |  77.58 |  386.1 | 0.14250 | 0.28390 | 0.2414 | 0.10520 | ⋯ | 14.91 | 26.50 |  98.87 |  567.7 | 0.2098 | 0.8663 | 0.6869 | 0.2575 | 0.6638 | 0.17300 |\n| 5 | 84358402 | M | 20.29 | 14.34 | 135.10 | 1297.0 | 0.10030 | 0.13280 | 0.1980 | 0.10430 | ⋯ | 22.54 | 16.67 | 152.20 | 1575.0 | 0.1374 | 0.2050 | 0.4000 | 0.1625 | 0.2364 | 0.07678 |\n| 6 |   843786 | M | 12.45 | 15.70 |  82.57 |  477.1 | 0.12780 | 0.17000 | 0.1578 | 0.08089 | ⋯ | 15.47 | 23.75 | 103.40 |  741.6 | 0.1791 | 0.5249 | 0.5355 | 0.1741 | 0.3985 | 0.12440 |\n\n",
            "text/latex": "A data.frame: 6 × 32\n\\begin{tabular}{r|lllllllllllllllllllll}\n  & id & diagnosis & radius\\_mean & texture\\_mean & perimeter\\_mean & area\\_mean & smoothness\\_mean & compactness\\_mean & concavity\\_mean & concave.points\\_mean & ⋯ & radius\\_worst & texture\\_worst & perimeter\\_worst & area\\_worst & smoothness\\_worst & compactness\\_worst & concavity\\_worst & concave.points\\_worst & symmetry\\_worst & fractal\\_dimension\\_worst\\\\\n  & <int> & <chr> & <dbl> & <dbl> & <dbl> & <dbl> & <dbl> & <dbl> & <dbl> & <dbl> & ⋯ & <dbl> & <dbl> & <dbl> & <dbl> & <dbl> & <dbl> & <dbl> & <dbl> & <dbl> & <dbl>\\\\\n\\hline\n\t1 &   842302 & M & 17.99 & 10.38 & 122.80 & 1001.0 & 0.11840 & 0.27760 & 0.3001 & 0.14710 & ⋯ & 25.38 & 17.33 & 184.60 & 2019.0 & 0.1622 & 0.6656 & 0.7119 & 0.2654 & 0.4601 & 0.11890\\\\\n\t2 &   842517 & M & 20.57 & 17.77 & 132.90 & 1326.0 & 0.08474 & 0.07864 & 0.0869 & 0.07017 & ⋯ & 24.99 & 23.41 & 158.80 & 1956.0 & 0.1238 & 0.1866 & 0.2416 & 0.1860 & 0.2750 & 0.08902\\\\\n\t3 & 84300903 & M & 19.69 & 21.25 & 130.00 & 1203.0 & 0.10960 & 0.15990 & 0.1974 & 0.12790 & ⋯ & 23.57 & 25.53 & 152.50 & 1709.0 & 0.1444 & 0.4245 & 0.4504 & 0.2430 & 0.3613 & 0.08758\\\\\n\t4 & 84348301 & M & 11.42 & 20.38 &  77.58 &  386.1 & 0.14250 & 0.28390 & 0.2414 & 0.10520 & ⋯ & 14.91 & 26.50 &  98.87 &  567.7 & 0.2098 & 0.8663 & 0.6869 & 0.2575 & 0.6638 & 0.17300\\\\\n\t5 & 84358402 & M & 20.29 & 14.34 & 135.10 & 1297.0 & 0.10030 & 0.13280 & 0.1980 & 0.10430 & ⋯ & 22.54 & 16.67 & 152.20 & 1575.0 & 0.1374 & 0.2050 & 0.4000 & 0.1625 & 0.2364 & 0.07678\\\\\n\t6 &   843786 & M & 12.45 & 15.70 &  82.57 &  477.1 & 0.12780 & 0.17000 & 0.1578 & 0.08089 & ⋯ & 15.47 & 23.75 & 103.40 &  741.6 & 0.1791 & 0.5249 & 0.5355 & 0.1741 & 0.3985 & 0.12440\\\\\n\\end{tabular}\n",
            "text/plain": [
              "  id       diagnosis radius_mean texture_mean perimeter_mean area_mean\n",
              "1   842302 M         17.99       10.38        122.80         1001.0   \n",
              "2   842517 M         20.57       17.77        132.90         1326.0   \n",
              "3 84300903 M         19.69       21.25        130.00         1203.0   \n",
              "4 84348301 M         11.42       20.38         77.58          386.1   \n",
              "5 84358402 M         20.29       14.34        135.10         1297.0   \n",
              "6   843786 M         12.45       15.70         82.57          477.1   \n",
              "  smoothness_mean compactness_mean concavity_mean concave.points_mean ⋯\n",
              "1 0.11840         0.27760          0.3001         0.14710             ⋯\n",
              "2 0.08474         0.07864          0.0869         0.07017             ⋯\n",
              "3 0.10960         0.15990          0.1974         0.12790             ⋯\n",
              "4 0.14250         0.28390          0.2414         0.10520             ⋯\n",
              "5 0.10030         0.13280          0.1980         0.10430             ⋯\n",
              "6 0.12780         0.17000          0.1578         0.08089             ⋯\n",
              "  radius_worst texture_worst perimeter_worst area_worst smoothness_worst\n",
              "1 25.38        17.33         184.60          2019.0     0.1622          \n",
              "2 24.99        23.41         158.80          1956.0     0.1238          \n",
              "3 23.57        25.53         152.50          1709.0     0.1444          \n",
              "4 14.91        26.50          98.87           567.7     0.2098          \n",
              "5 22.54        16.67         152.20          1575.0     0.1374          \n",
              "6 15.47        23.75         103.40           741.6     0.1791          \n",
              "  compactness_worst concavity_worst concave.points_worst symmetry_worst\n",
              "1 0.6656            0.7119          0.2654               0.4601        \n",
              "2 0.1866            0.2416          0.1860               0.2750        \n",
              "3 0.4245            0.4504          0.2430               0.3613        \n",
              "4 0.8663            0.6869          0.2575               0.6638        \n",
              "5 0.2050            0.4000          0.1625               0.2364        \n",
              "6 0.5249            0.5355          0.1741               0.3985        \n",
              "  fractal_dimension_worst\n",
              "1 0.11890                \n",
              "2 0.08902                \n",
              "3 0.08758                \n",
              "4 0.17300                \n",
              "5 0.07678                \n",
              "6 0.12440                "
            ]
          },
          "metadata": {}
        }
      ]
    },
    {
      "cell_type": "code",
      "source": [
        "f$diagnosis <- as.factor(f$diagnosis)"
      ],
      "metadata": {
        "id": "1fCETzOPDgpn"
      },
      "execution_count": 4,
      "outputs": []
    },
    {
      "cell_type": "code",
      "source": [
        "# Shuffle Data\n",
        "set.seed(123)\n",
        "f <- f[sample(nrow(f)), ]"
      ],
      "metadata": {
        "id": "tTOfNX-5EmPV"
      },
      "execution_count": 5,
      "outputs": []
    },
    {
      "cell_type": "code",
      "source": [
        "n <- function(b)\n",
        "    {\n",
        "        (b - min(b)) / (max(b) - min(b))\n",
        "    }"
      ],
      "metadata": {
        "id": "fJcgoB60En5B"
      },
      "execution_count": 6,
      "outputs": []
    },
    {
      "cell_type": "code",
      "source": [
        "# apply func on 3 to 32 columns\n",
        "f1 <- f[, 3 : 32]\n",
        "fnor <- as.data.frame(lapply(f1, n))"
      ],
      "metadata": {
        "id": "lEjJoRAdEqBE"
      },
      "execution_count": 7,
      "outputs": []
    },
    {
      "cell_type": "code",
      "source": [
        "head(fnor)"
      ],
      "metadata": {
        "colab": {
          "base_uri": "https://localhost:8080/",
          "height": 306
        },
        "id": "8yPjYmR3EroC",
        "outputId": "178ed8b3-6cd7-40fc-e95f-97e4e403786b"
      },
      "execution_count": 8,
      "outputs": [
        {
          "output_type": "display_data",
          "data": {
            "text/html": [
              "<table class=\"dataframe\">\n",
              "<caption>A data.frame: 6 × 30</caption>\n",
              "<thead>\n",
              "\t<tr><th></th><th scope=col>radius_mean</th><th scope=col>texture_mean</th><th scope=col>perimeter_mean</th><th scope=col>area_mean</th><th scope=col>smoothness_mean</th><th scope=col>compactness_mean</th><th scope=col>concavity_mean</th><th scope=col>concave.points_mean</th><th scope=col>symmetry_mean</th><th scope=col>fractal_dimension_mean</th><th scope=col>⋯</th><th scope=col>radius_worst</th><th scope=col>texture_worst</th><th scope=col>perimeter_worst</th><th scope=col>area_worst</th><th scope=col>smoothness_worst</th><th scope=col>compactness_worst</th><th scope=col>concavity_worst</th><th scope=col>concave.points_worst</th><th scope=col>symmetry_worst</th><th scope=col>fractal_dimension_worst</th></tr>\n",
              "\t<tr><th></th><th scope=col>&lt;dbl&gt;</th><th scope=col>&lt;dbl&gt;</th><th scope=col>&lt;dbl&gt;</th><th scope=col>&lt;dbl&gt;</th><th scope=col>&lt;dbl&gt;</th><th scope=col>&lt;dbl&gt;</th><th scope=col>&lt;dbl&gt;</th><th scope=col>&lt;dbl&gt;</th><th scope=col>&lt;dbl&gt;</th><th scope=col>&lt;dbl&gt;</th><th scope=col>⋯</th><th scope=col>&lt;dbl&gt;</th><th scope=col>&lt;dbl&gt;</th><th scope=col>&lt;dbl&gt;</th><th scope=col>&lt;dbl&gt;</th><th scope=col>&lt;dbl&gt;</th><th scope=col>&lt;dbl&gt;</th><th scope=col>&lt;dbl&gt;</th><th scope=col>&lt;dbl&gt;</th><th scope=col>&lt;dbl&gt;</th><th scope=col>&lt;dbl&gt;</th></tr>\n",
              "</thead>\n",
              "<tbody>\n",
              "\t<tr><th scope=row>1</th><td>0.38567845</td><td>0.6797430</td><td>0.3656969</td><td>0.24432662</td><td>0.27597725</td><td>0.0818048</td><td>0.109793814</td><td>0.136133201</td><td>0.4000000</td><td>0.06276327</td><td>⋯</td><td>0.3319104</td><td>0.6633795</td><td>0.29727576</td><td>0.18339560</td><td>0.28811992</td><td>0.069243531</td><td>0.123562300</td><td>0.22594502</td><td>0.3287995</td><td>0.04335563</td></tr>\n",
              "\t<tr><th scope=row>2</th><td>0.35112878</td><td>0.5843761</td><td>0.3348766</td><td>0.21319194</td><td>0.15636003</td><td>0.1007607</td><td>0.081443299</td><td>0.086332008</td><td>0.3267677</td><td>0.09203875</td><td>⋯</td><td>0.2657417</td><td>0.5319829</td><td>0.24896658</td><td>0.13502753</td><td>0.20161131</td><td>0.115173036</td><td>0.117571885</td><td>0.19116838</td><td>0.1537552</td><td>0.06296734</td></tr>\n",
              "\t<tr><th scope=row>3</th><td>0.28534242</td><td>0.4230639</td><td>0.2641144</td><td>0.16241782</td><td>0.08919383</td><td>0.0000000</td><td>0.003737113</td><td>0.009204771</td><td>0.1691919</td><td>0.05012637</td><td>⋯</td><td>0.2159374</td><td>0.4530917</td><td>0.18810698</td><td>0.10410932</td><td>0.06656541</td><td>0.006820541</td><td>0.006371406</td><td>0.03181787</td><td>0.1438991</td><td>0.02223534</td></tr>\n",
              "\t<tr><th scope=row>4</th><td>0.07525202</td><td>0.1146432</td><td>0.0742174</td><td>0.03300106</td><td>0.46014264</td><td>0.1746519</td><td>0.060098407</td><td>0.075049702</td><td>0.3121212</td><td>0.44860994</td><td>⋯</td><td>0.0548915</td><td>0.1713753</td><td>0.06419642</td><td>0.02221785</td><td>0.61368289</td><td>0.190363924</td><td>0.140095847</td><td>0.29250859</td><td>0.2795190</td><td>0.32703660</td></tr>\n",
              "\t<tr><th scope=row>5</th><td>0.37289981</td><td>0.4565438</td><td>0.3911962</td><td>0.22392365</td><td>0.46736481</td><td>0.5478805</td><td>0.397610122</td><td>0.441252485</td><td>0.3419192</td><td>0.35299073</td><td>⋯</td><td>0.2899324</td><td>0.4200426</td><td>0.33960855</td><td>0.14734074</td><td>0.39906227</td><td>0.424474391</td><td>0.366533546</td><td>0.59347079</td><td>0.2828701</td><td>0.20969435</td></tr>\n",
              "\t<tr><th scope=row>6</th><td>0.37337309</td><td>0.2353737</td><td>0.3790339</td><td>0.22863203</td><td>0.57389185</td><td>0.4463530</td><td>0.395970009</td><td>0.443489066</td><td>0.5540404</td><td>0.37320977</td><td>⋯</td><td>0.3870509</td><td>0.4091151</td><td>0.38194133</td><td>0.22360401</td><td>0.77019085</td><td>0.408174947</td><td>0.375718850</td><td>0.69656357</td><td>0.3981865</td><td>0.33753116</td></tr>\n",
              "</tbody>\n",
              "</table>\n"
            ],
            "text/markdown": "\nA data.frame: 6 × 30\n\n| <!--/--> | radius_mean &lt;dbl&gt; | texture_mean &lt;dbl&gt; | perimeter_mean &lt;dbl&gt; | area_mean &lt;dbl&gt; | smoothness_mean &lt;dbl&gt; | compactness_mean &lt;dbl&gt; | concavity_mean &lt;dbl&gt; | concave.points_mean &lt;dbl&gt; | symmetry_mean &lt;dbl&gt; | fractal_dimension_mean &lt;dbl&gt; | ⋯ ⋯ | radius_worst &lt;dbl&gt; | texture_worst &lt;dbl&gt; | perimeter_worst &lt;dbl&gt; | area_worst &lt;dbl&gt; | smoothness_worst &lt;dbl&gt; | compactness_worst &lt;dbl&gt; | concavity_worst &lt;dbl&gt; | concave.points_worst &lt;dbl&gt; | symmetry_worst &lt;dbl&gt; | fractal_dimension_worst &lt;dbl&gt; |\n|---|---|---|---|---|---|---|---|---|---|---|---|---|---|---|---|---|---|---|---|---|---|\n| 1 | 0.38567845 | 0.6797430 | 0.3656969 | 0.24432662 | 0.27597725 | 0.0818048 | 0.109793814 | 0.136133201 | 0.4000000 | 0.06276327 | ⋯ | 0.3319104 | 0.6633795 | 0.29727576 | 0.18339560 | 0.28811992 | 0.069243531 | 0.123562300 | 0.22594502 | 0.3287995 | 0.04335563 |\n| 2 | 0.35112878 | 0.5843761 | 0.3348766 | 0.21319194 | 0.15636003 | 0.1007607 | 0.081443299 | 0.086332008 | 0.3267677 | 0.09203875 | ⋯ | 0.2657417 | 0.5319829 | 0.24896658 | 0.13502753 | 0.20161131 | 0.115173036 | 0.117571885 | 0.19116838 | 0.1537552 | 0.06296734 |\n| 3 | 0.28534242 | 0.4230639 | 0.2641144 | 0.16241782 | 0.08919383 | 0.0000000 | 0.003737113 | 0.009204771 | 0.1691919 | 0.05012637 | ⋯ | 0.2159374 | 0.4530917 | 0.18810698 | 0.10410932 | 0.06656541 | 0.006820541 | 0.006371406 | 0.03181787 | 0.1438991 | 0.02223534 |\n| 4 | 0.07525202 | 0.1146432 | 0.0742174 | 0.03300106 | 0.46014264 | 0.1746519 | 0.060098407 | 0.075049702 | 0.3121212 | 0.44860994 | ⋯ | 0.0548915 | 0.1713753 | 0.06419642 | 0.02221785 | 0.61368289 | 0.190363924 | 0.140095847 | 0.29250859 | 0.2795190 | 0.32703660 |\n| 5 | 0.37289981 | 0.4565438 | 0.3911962 | 0.22392365 | 0.46736481 | 0.5478805 | 0.397610122 | 0.441252485 | 0.3419192 | 0.35299073 | ⋯ | 0.2899324 | 0.4200426 | 0.33960855 | 0.14734074 | 0.39906227 | 0.424474391 | 0.366533546 | 0.59347079 | 0.2828701 | 0.20969435 |\n| 6 | 0.37337309 | 0.2353737 | 0.3790339 | 0.22863203 | 0.57389185 | 0.4463530 | 0.395970009 | 0.443489066 | 0.5540404 | 0.37320977 | ⋯ | 0.3870509 | 0.4091151 | 0.38194133 | 0.22360401 | 0.77019085 | 0.408174947 | 0.375718850 | 0.69656357 | 0.3981865 | 0.33753116 |\n\n",
            "text/latex": "A data.frame: 6 × 30\n\\begin{tabular}{r|lllllllllllllllllllll}\n  & radius\\_mean & texture\\_mean & perimeter\\_mean & area\\_mean & smoothness\\_mean & compactness\\_mean & concavity\\_mean & concave.points\\_mean & symmetry\\_mean & fractal\\_dimension\\_mean & ⋯ & radius\\_worst & texture\\_worst & perimeter\\_worst & area\\_worst & smoothness\\_worst & compactness\\_worst & concavity\\_worst & concave.points\\_worst & symmetry\\_worst & fractal\\_dimension\\_worst\\\\\n  & <dbl> & <dbl> & <dbl> & <dbl> & <dbl> & <dbl> & <dbl> & <dbl> & <dbl> & <dbl> & ⋯ & <dbl> & <dbl> & <dbl> & <dbl> & <dbl> & <dbl> & <dbl> & <dbl> & <dbl> & <dbl>\\\\\n\\hline\n\t1 & 0.38567845 & 0.6797430 & 0.3656969 & 0.24432662 & 0.27597725 & 0.0818048 & 0.109793814 & 0.136133201 & 0.4000000 & 0.06276327 & ⋯ & 0.3319104 & 0.6633795 & 0.29727576 & 0.18339560 & 0.28811992 & 0.069243531 & 0.123562300 & 0.22594502 & 0.3287995 & 0.04335563\\\\\n\t2 & 0.35112878 & 0.5843761 & 0.3348766 & 0.21319194 & 0.15636003 & 0.1007607 & 0.081443299 & 0.086332008 & 0.3267677 & 0.09203875 & ⋯ & 0.2657417 & 0.5319829 & 0.24896658 & 0.13502753 & 0.20161131 & 0.115173036 & 0.117571885 & 0.19116838 & 0.1537552 & 0.06296734\\\\\n\t3 & 0.28534242 & 0.4230639 & 0.2641144 & 0.16241782 & 0.08919383 & 0.0000000 & 0.003737113 & 0.009204771 & 0.1691919 & 0.05012637 & ⋯ & 0.2159374 & 0.4530917 & 0.18810698 & 0.10410932 & 0.06656541 & 0.006820541 & 0.006371406 & 0.03181787 & 0.1438991 & 0.02223534\\\\\n\t4 & 0.07525202 & 0.1146432 & 0.0742174 & 0.03300106 & 0.46014264 & 0.1746519 & 0.060098407 & 0.075049702 & 0.3121212 & 0.44860994 & ⋯ & 0.0548915 & 0.1713753 & 0.06419642 & 0.02221785 & 0.61368289 & 0.190363924 & 0.140095847 & 0.29250859 & 0.2795190 & 0.32703660\\\\\n\t5 & 0.37289981 & 0.4565438 & 0.3911962 & 0.22392365 & 0.46736481 & 0.5478805 & 0.397610122 & 0.441252485 & 0.3419192 & 0.35299073 & ⋯ & 0.2899324 & 0.4200426 & 0.33960855 & 0.14734074 & 0.39906227 & 0.424474391 & 0.366533546 & 0.59347079 & 0.2828701 & 0.20969435\\\\\n\t6 & 0.37337309 & 0.2353737 & 0.3790339 & 0.22863203 & 0.57389185 & 0.4463530 & 0.395970009 & 0.443489066 & 0.5540404 & 0.37320977 & ⋯ & 0.3870509 & 0.4091151 & 0.38194133 & 0.22360401 & 0.77019085 & 0.408174947 & 0.375718850 & 0.69656357 & 0.3981865 & 0.33753116\\\\\n\\end{tabular}\n",
            "text/plain": [
              "  radius_mean texture_mean perimeter_mean area_mean  smoothness_mean\n",
              "1 0.38567845  0.6797430    0.3656969      0.24432662 0.27597725     \n",
              "2 0.35112878  0.5843761    0.3348766      0.21319194 0.15636003     \n",
              "3 0.28534242  0.4230639    0.2641144      0.16241782 0.08919383     \n",
              "4 0.07525202  0.1146432    0.0742174      0.03300106 0.46014264     \n",
              "5 0.37289981  0.4565438    0.3911962      0.22392365 0.46736481     \n",
              "6 0.37337309  0.2353737    0.3790339      0.22863203 0.57389185     \n",
              "  compactness_mean concavity_mean concave.points_mean symmetry_mean\n",
              "1 0.0818048        0.109793814    0.136133201         0.4000000    \n",
              "2 0.1007607        0.081443299    0.086332008         0.3267677    \n",
              "3 0.0000000        0.003737113    0.009204771         0.1691919    \n",
              "4 0.1746519        0.060098407    0.075049702         0.3121212    \n",
              "5 0.5478805        0.397610122    0.441252485         0.3419192    \n",
              "6 0.4463530        0.395970009    0.443489066         0.5540404    \n",
              "  fractal_dimension_mean ⋯ radius_worst texture_worst perimeter_worst\n",
              "1 0.06276327             ⋯ 0.3319104    0.6633795     0.29727576     \n",
              "2 0.09203875             ⋯ 0.2657417    0.5319829     0.24896658     \n",
              "3 0.05012637             ⋯ 0.2159374    0.4530917     0.18810698     \n",
              "4 0.44860994             ⋯ 0.0548915    0.1713753     0.06419642     \n",
              "5 0.35299073             ⋯ 0.2899324    0.4200426     0.33960855     \n",
              "6 0.37320977             ⋯ 0.3870509    0.4091151     0.38194133     \n",
              "  area_worst smoothness_worst compactness_worst concavity_worst\n",
              "1 0.18339560 0.28811992       0.069243531       0.123562300    \n",
              "2 0.13502753 0.20161131       0.115173036       0.117571885    \n",
              "3 0.10410932 0.06656541       0.006820541       0.006371406    \n",
              "4 0.02221785 0.61368289       0.190363924       0.140095847    \n",
              "5 0.14734074 0.39906227       0.424474391       0.366533546    \n",
              "6 0.22360401 0.77019085       0.408174947       0.375718850    \n",
              "  concave.points_worst symmetry_worst fractal_dimension_worst\n",
              "1 0.22594502           0.3287995      0.04335563             \n",
              "2 0.19116838           0.1537552      0.06296734             \n",
              "3 0.03181787           0.1438991      0.02223534             \n",
              "4 0.29250859           0.2795190      0.32703660             \n",
              "5 0.59347079           0.2828701      0.20969435             \n",
              "6 0.69656357           0.3981865      0.33753116             "
            ]
          },
          "metadata": {}
        }
      ]
    },
    {
      "cell_type": "code",
      "source": [
        "#data partitioning\n",
        "train <- fnor[1:469, ]\n",
        "test <- fnor[470: 569, ]\n",
        "train_label <- f[1: 469, 2]\n",
        "test_label <- f[470: 569, 2]"
      ],
      "metadata": {
        "id": "eaSSujEoE3Xl"
      },
      "execution_count": 9,
      "outputs": []
    },
    {
      "cell_type": "code",
      "source": [
        "# train and predict\n",
        "p <- knn(train, test, train_label, k=3)"
      ],
      "metadata": {
        "id": "C34MLT5XE48z"
      },
      "execution_count": 10,
      "outputs": []
    },
    {
      "cell_type": "code",
      "source": [
        "# train and predict\n",
        "p <- knn(train, test, train_label, k=3)"
      ],
      "metadata": {
        "id": "8HhuEYtTE6a3"
      },
      "execution_count": 11,
      "outputs": []
    },
    {
      "cell_type": "code",
      "source": [
        "# Confusion Matrix\n",
        "t <- table(actual = test_label, predicted = p)\n",
        "print(t)"
      ],
      "metadata": {
        "colab": {
          "base_uri": "https://localhost:8080/"
        },
        "id": "hCdy8YMHE8bZ",
        "outputId": "3b40c91c-3aba-428d-f66c-314574d86d88"
      },
      "execution_count": 12,
      "outputs": [
        {
          "output_type": "stream",
          "name": "stdout",
          "text": [
            "      predicted\n",
            "actual  B  M\n",
            "     B 50  1\n",
            "     M  3 46\n"
          ]
        }
      ]
    },
    {
      "cell_type": "code",
      "source": [
        "TN <- t[1,1]\n",
        "TP <- t[2,2]\n",
        "FN <- t[2,1]\n",
        "FP <- t[1,2]"
      ],
      "metadata": {
        "id": "4i6oQN4bE-Cq"
      },
      "execution_count": 13,
      "outputs": []
    },
    {
      "cell_type": "code",
      "source": [
        "accuracy <- (TN + TP) / (TN +  TP + FN + FP )\n",
        "cat(\"Accuracy:\", accuracy)"
      ],
      "metadata": {
        "colab": {
          "base_uri": "https://localhost:8080/"
        },
        "id": "Yu8chxatE_jL",
        "outputId": "2a39d914-c4de-4114-9edc-9f31ab8ee773"
      },
      "execution_count": 14,
      "outputs": [
        {
          "output_type": "stream",
          "name": "stdout",
          "text": [
            "Accuracy: 0.96"
          ]
        }
      ]
    },
    {
      "cell_type": "code",
      "source": [
        "sensitivity <- TP / (TP + FN)\n",
        "cat(\"Sensitivity:\", sensitivity)"
      ],
      "metadata": {
        "colab": {
          "base_uri": "https://localhost:8080/"
        },
        "id": "feGmtzxmFCub",
        "outputId": "7127667f-0246-4524-d21d-38cc89852f15"
      },
      "execution_count": 15,
      "outputs": [
        {
          "output_type": "stream",
          "name": "stdout",
          "text": [
            "Sensitivity: 0.9387755"
          ]
        }
      ]
    },
    {
      "cell_type": "code",
      "source": [
        "specificity <- TN / (TN + FP)\n",
        "cat(\"Specificity:\", specificity)"
      ],
      "metadata": {
        "colab": {
          "base_uri": "https://localhost:8080/"
        },
        "id": "ZYTjn7JNFBg2",
        "outputId": "f2124d8f-72b2-468d-f1d3-6565a647af00"
      },
      "execution_count": 16,
      "outputs": [
        {
          "output_type": "stream",
          "name": "stdout",
          "text": [
            "Specificity: 0.9803922"
          ]
        }
      ]
    },
    {
      "cell_type": "code",
      "source": [
        "precision <- TP / (TP + FP)\n",
        "cat(\"Precision:\", precision)"
      ],
      "metadata": {
        "colab": {
          "base_uri": "https://localhost:8080/"
        },
        "id": "_413y6erFEqr",
        "outputId": "84d5e66d-0d56-49f1-fea9-d129a7a3d8c1"
      },
      "execution_count": 17,
      "outputs": [
        {
          "output_type": "stream",
          "name": "stdout",
          "text": [
            "Precision: 0.9787234"
          ]
        }
      ]
    },
    {
      "cell_type": "code",
      "source": [],
      "metadata": {
        "id": "zCOd0rJzFF5w"
      },
      "execution_count": null,
      "outputs": []
    }
  ]
}